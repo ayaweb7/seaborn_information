{
 "cells": [
  {
   "cell_type": "code",
   "execution_count": null,
   "metadata": {},
   "outputs": [],
   "source": [
    "# Горячие клавиши в ноутбуке\n",
    "# Выполнение ячейки\n",
    "# Ctrl + Enter или Shift + Enter\n",
    "\n",
    "# Полезная горячая клавиша для pycharm -  (только в английской раскладке) ctrl + / - преобразует строку в комментарий и обратно\n",
    "# Комментирование строки\n",
    "# Ctrl + /\n",
    "\n",
    "# Обратите внимание, эта команда и команды ниже будут работать, если у вас выделена ячейка\n",
    "# (она подсвечена голубым, при этом курсор не мелькает внутри ячейки)\n",
    "# Создать ячейку выше\n",
    "a\n",
    "\n",
    "# Создать ячейку ниже\n",
    "b\n",
    "\n",
    "# Объединить выделенные ячейки\n",
    "Shift + m\n",
    "\n",
    "# Вырезать ячейки\n",
    "x\n",
    " \n",
    "# Копировать ячейки\n",
    "c\n",
    "\n",
    "# Вставить скопированные/вырезанные ячейки\n",
    "v"
   ]
  },
  {
   "cell_type": "code",
   "execution_count": null,
   "metadata": {},
   "outputs": [],
   "source": []
  },
  {
   "cell_type": "code",
   "execution_count": null,
   "metadata": {},
   "outputs": [],
   "source": []
  },
  {
   "cell_type": "code",
   "execution_count": null,
   "metadata": {},
   "outputs": [],
   "source": [
    "# Считывание csv\n",
    "pd.read_csv('path_to_your.csv')  # read_excel for reading excel files\n",
    "\n",
    "# путь на Windows – C:\\user\\docs\\Letter.txt\n",
    "# строка, содержащая путь – 'C:\\user\\docs\\Letter.txt'\n",
    "# также допустимые варианты –'C:\\\\user\\\\docs\\\\Letter.txt' или r'C:\\user\\docs\\Letter.txt'"
   ]
  },
  {
   "cell_type": "code",
   "execution_count": null,
   "metadata": {},
   "outputs": [],
   "source": [
    "# Дополнительные аргументы функции read_csv\n",
    "pd.read_csv('path_to_your.csv', encoding='Windows-1251')  # now you are reading file encoded with Windows-1251\n",
    "\n",
    "# sep – разделитель между ячейками в строке (по умолчанию ',')\n",
    "pd.read_csv('path_to_your.csv', encoding='Windows-1251', sep=';')  # now you additionally specified that fields are separated with ;\n",
    "\n",
    "# parse_dates – указывает, стоит ли воспринимать даты как даты (по умолчанию они воспринимаются пандасом как строки).\n",
    "# Параметр с датами может принимать несколько значений:\n",
    "\n",
    "# True – пытается перевести в дату первую колонку\n",
    "# список колонок – пытается перевести в дату указанные в списке колонки\n",
    "\n",
    "# And create_data, payment_data columns will be treated as data\n",
    "pd.read_csv('path_to_your.csv', encoding='Windows-1251', sep=';', parse_dates=['create_data', 'payment_data'])"
   ]
  },
  {
   "cell_type": "code",
   "execution_count": null,
   "metadata": {},
   "outputs": [],
   "source": [
    "# Атрибуты vs Методы\n",
    "# Пример с методом head() и атрибутом shape\n",
    "df.head(10)\n",
    "df.shape"
   ]
  },
  {
   "cell_type": "code",
   "execution_count": null,
   "metadata": {},
   "outputs": [],
   "source": [
    "# Типы колонок\n",
    "df.dtypes()\n",
    "\n",
    "# Метод describe\n",
    "df.describe()"
   ]
  },
  {
   "cell_type": "code",
   "execution_count": null,
   "metadata": {},
   "outputs": [],
   "source": [
    "# Переименование колонок\n",
    "# Пример переименования колонки x в name, а колонки y в salary:\n",
    "# Rename columns\n",
    "df = df.rename(columns={'x': 'name', 'y': 'salary'})\n",
    "\n",
    "# А вот пример переименования лэйблов строк из 0 в Ivanov и из 1 в Vasilev:\n",
    "# Rename index (row names)\n",
    "df = df.rename(index={0: 'Ivanov', 1: 'Vasilev'})\n"
   ]
  },
  {
   "cell_type": "code",
   "execution_count": null,
   "metadata": {},
   "outputs": [],
   "source": [
    "# Обращение к колонкам\n",
    "df.column_name\n",
    "\n",
    "# Но что делать, если название колонки состоит из двух слов?\n",
    "# В таком случае необходимо либо переименовать колонку, либо использовать другой способ доступа:\n",
    "df['column name']\n",
    "# Работает для всех случаев кроме тех, когда в названии присутствуют одинарные кавычки.\n",
    "# Тогда либо используйте вокруг названия двойные, либо поставьте \\ перед кавычками внутри. Лучше называть колонки без кавычек.\n",
    "\n",
    "# Для получения нескольких колонок передайте внутрь квадратных скобок список с именами желаемых колонок:\n",
    "df[['column1', 'column2', 'column3']]"
   ]
  },
  {
   "cell_type": "code",
   "execution_count": null,
   "metadata": {},
   "outputs": [],
   "source": []
  },
  {
   "cell_type": "code",
   "execution_count": 1,
   "metadata": {},
   "outputs": [
    {
     "name": "stdout",
     "output_type": "stream",
     "text": [
      "вся строка целиком hello world: hello world\n",
      "начиная со 2 индекса до 7 (НЕ ВКЛЮЧАЯ 7) в строке hello world: llo w\n",
      "начиная со 2 индекса до конца в строке hello world: llo world\n",
      "от начала до 7 (НЕ ВКЛЮЧАЯ 7) в строке hello world: hello w\n",
      "\n",
      "каждый 2-й символ (шаг=2) строки hello world: hlowrd\n",
      "каждый 2-й символ (шаг=2), начиная с 1-го строки hello world: el ol\n",
      "строка наоборот (шаг=-1), начиная с последнего символа строки hello world: dlrow olleh\n",
      "\n",
      "начиная с 2 до 9 (НЕ ВКЛЮЧАЯ 9) с шагом 3 строки hello world: l r\n"
     ]
    }
   ],
   "source": [
    "# Срезы\n",
    "s = 'hello world'\n",
    "print('вся строка целиком', s + ':', s[:]) # вся строка целиком\n",
    "print('начиная со 2 индекса до 7 (НЕ ВКЛЮЧАЯ 7) в строке', s + ':', s[2:7]) # начиная со 2 индекса до 7 (НЕ ВКЛЮЧАЯ 7)\n",
    "print('начиная со 2 индекса до конца в строке', s + ':', s[2:]) # начиная со 2 индекса до конца\n",
    "print('от начала до 7 (НЕ ВКЛЮЧАЯ 7) в строке', s + ':', s[:7]) # от начала до 7 (НЕ ВКЛЮЧАЯ 7)\n",
    "print()\n",
    "print('каждый 2-й символ (шаг=2) строки', s + ':', s[::2]) # каждый 2-й символ (шаг=2)\n",
    "print('каждый 2-й символ (шаг=2), начиная с 1-го строки', s + ':', s[1::2]) # каждый 2-й символ, начиная с 1-го (шаг=2)\n",
    "print('строка наоборот (шаг=-1), начиная с последнего символа строки', s + ':', s[::-1])\n",
    "print()\n",
    "print('начиная с 2 до 9 (НЕ ВКЛЮЧАЯ 9) с шагом 3 строки', s + ':', s[2:9:3])"
   ]
  },
  {
   "cell_type": "code",
   "execution_count": null,
   "metadata": {},
   "outputs": [],
   "source": [
    "# 6. Индексация в DataFrame\n",
    "# К каждой ячейке с данными в DataFrame можно обратиться по её индексу и названию столбца.\n",
    "# Мы можем получать различные срезы данных в зависимости от того, какой запрос к DataFrame мы сформулируем.\n",
    "# Этот процесс называется индексация.\n",
    "# Для DataFrame она проводится разными способами.\n",
    "\n",
    "# Атрибут loc[строка, столбец] даёт доступ к элементу по строке и столбцу.\n",
    "# ВИД                                РЕАЛИЗАЦИЯ\n",
    "# Одна ячейка                        .loc[7, 'genre']\n",
    "# Один столбец                       .loc[:, 'genre']\n",
    "# Несколько столбцов                 .loc[:, ['genre', 'Artist']]\n",
    "# Несколько столбцов подряд (срез)   .loc[:, 'user_id': 'genre']\n",
    "# Одна строка                        .loc[1]\n",
    "# Все строки, начиная с заданной     .loc[1:]\n",
    "# Все строки до заданной             .loc[:3]\n",
    "# Несколько строк подряд (срез)      .loc[2:5]\n",
    "\n",
    "import pandas as pd\n",
    "data = [[0,0,0,0,0,0,0,0,0,0],\n",
    "        [0,'-','-','-',0,0,0,0,0,0],\n",
    "        [0,'-','X','-',0,0,'X','X','X','X'],\n",
    "        [0,'-','X','-',0,0,0,0,0,0],\n",
    "        [0,'-','-','-',0,0,0,0,0,0],\n",
    "        [0,0,'-',0,0,0,0,0,'X',0],\n",
    "        [0,'-','X','X',0,0,0,0,0,0],\n",
    "        [0,0,'-','-',0,0,0,0,0,0],\n",
    "        [0,0,0,0,'-','X',0,0,0,0],\n",
    "        [0,0,0,0,0,0,0,0,0,0]]\n",
    "columns = ['А','Б','В','Г','Д','Е','Ж','З','И','К']\n",
    "battle = pd.DataFrame(data = data, columns = columns)\n",
    "print(battle)\n",
    "\n",
    "# Давайте исследуем текущую ситуацию на поле. Просмотрим столбец 'В' и убедимся, что там уже началась атака на корабль:\n",
    "print(battle.loc[:,'В'])\n",
    "\n",
    "# Действительно, атака уже началась в 6-ой строке, но корабль ещё не убит,\n",
    "# а выстрелы в ячейки сверху и снизу кончились промахом.\n",
    "# Просмотрим 6-ую строку и узнаем расположение корабля.\n",
    "print(battle.loc[6])\n",
    "\n",
    "# Корабль ориентирован по горизонтали, по нему произведено два удачных выстрела, которые пришлись на столбцы В и Г.\n",
    "# Нужно оценить ситуацию вокруг корабля. Для этого просмотрим строки с 5 по 7.\n",
    "print(battle.loc[5:7])\n",
    "# Очевидно, что следующий выстрел нужно сделать по координате 6Д. Ура, корабль убит!\n",
    "# Теперь мы хотим найти второй трёхпалубный корабль.\n",
    "# Оценим, где вероятнее всего он может располагаться.\n",
    "# Для этого просмотрим две половины игрового поля.\n",
    "# Срез из столбцов от А до Д даст возможность вывести левую часть таблицы:\n",
    "print(battle.loc[:,'А':'Д'])\n",
    "\n",
    "# Такая же операция для столбцов от Е до К покажет правую часть таблицы:\n",
    "print(battle.loc[:,'Е':'К'])\n",
    "\n",
    "# Важное замечание: когда мы используем срезы в списках, то конец среза не включается в результат.\n",
    "# А вот атрибут .loc[] тем и выделяется, что включает и начало, и конец среза.\n",
    "# Например, есть список исполнителей:\n",
    "artist = ['Marina Rei', 'Stive Morgan','Rixton',\n",
    "          'Henry Hall & His Gleneagles Hotel Band',\n",
    "          'Andrew Paul Woodworth', 'Pillar Point',\n",
    "          'Steve Campbell','David Civera','Lumipa Beats', 'Henning Wehland'\n",
    "         ]\n",
    "# Элементы с 2 по 4 получают запросом:\n",
    "print(artist[2:5])\n",
    "# ['Rixton', 'Henry Hall & His Gleneagles Hotel Band', 'Andrew Paul Woodworth']\n",
    "\n",
    "# Последним в запросе указан индекс 5 — именно для того, чтобы в срез попал элемент с индексом 4.\n",
    "# Запрос на получение со 2 по 4 строки в таблице будет выглядеть вот так:\n",
    "print(df.loc[2:4])\n",
    "\n",
    "# Надо уметь подсчитать количество определённых значений, например, точных попаданий.\n",
    "# В Pandas для этого есть метод count().\n",
    "\n",
    "# Его вызывают и приказывают сосчитать, например, количество ячеек столбца В, где были попадания.\n",
    "# Удачный выстрел — это значение \"X\" в ячейке.\n",
    "# Для столбца В таблицы battle такие ячейки отвечают логическому условию battle.loc[:,'В'] == 'X'.\n",
    "# Поскольку в указании, какие именно значения считать, нужен логический оператор,\n",
    "# такой доступ к значению ячейки называют логическая индексация.\n",
    "print(battle.loc[battle.loc[:,'В'] == 'X']['В'].count())\n",
    "# используем метод .count() для подсчёта записей, удовлетворяющих условию в столбце В\n",
    "# 3\n",
    "\n",
    "# ВИД\tРЕАЛИЗАЦИЯ\tСОКРАЩЁННАЯ ЗАПИСЬ\n",
    "# Все строки, удовлетворяющие условию battle.loc[battle.loc[:,'В'] == 'X']        battle[battle['В'] == 'X']\n",
    "# Столбец, удовлетворяющий условию    battle.loc[battle.loc[:,'В'] == 'X']['В']   battle[battle['В'] == 'X']['В']\n",
    "# Применение метода                   battle.loc[battle.loc[:,'В'] == 'X']['В'].count() battle[battle['В'] == 'X']['В'].count()\n"
   ]
  },
  {
   "cell_type": "code",
   "execution_count": null,
   "metadata": {},
   "outputs": [],
   "source": []
  },
  {
   "cell_type": "code",
   "execution_count": null,
   "metadata": {},
   "outputs": [],
   "source": [
    "# Применение вычислительных методов\n",
    "df.money.sum()"
   ]
  },
  {
   "cell_type": "code",
   "execution_count": null,
   "metadata": {},
   "outputs": [],
   "source": [
    "# Цепочка методов (method chaining)\n",
    "# Стандартная запись:\n",
    "df = df.query('income >=  1000')\n",
    "df = df.groupby(['title', 'status'], as_index=False).agg({'income': 'sum', 'id': 'count'})  # groupby is usually immediately followed by agg\n",
    "df = df.sort_values(['title', 'status'])"
   ]
  },
  {
   "cell_type": "code",
   "execution_count": null,
   "metadata": {},
   "outputs": [],
   "source": [
    "# Сокращённая запись:\n",
    "df  = df.query('income >=  1000').groupby(['title', 'status'], as_index=False).agg({'income': 'sum', 'id': 'count'}).sort_values(['title', 'status'])"
   ]
  },
  {
   "cell_type": "code",
   "execution_count": null,
   "metadata": {},
   "outputs": [],
   "source": [
    "# \\ after each nonfinal line to demarcate line continuation for python\n",
    "# после каждой нефинальной строки, чтобы разграничить продолжение строки для Python\n",
    "df  = df.query('income >=  1000') \\\n",
    "  .groupby(['title', 'status'], as_index=False) \\ \n",
    "  .agg({'income': 'sum', 'id': 'count'}) \\ \n",
    "  .sort_values(['title', 'status'])\n",
    "# \n",
    "# \n"
   ]
  },
  {
   "cell_type": "code",
   "execution_count": null,
   "metadata": {},
   "outputs": [],
   "source": [
    "# Parentheses around the whole expression for the same purpose as backslash in previous example\n",
    "# Круглые скобки вокруг всего выражения для той же цели, что и обратная косая черта в предыдущем примере\n",
    "df  = (df.query('income >=  1000')\n",
    "         .groupby(['title', 'status'], as_index=False)\n",
    "         .agg({'income': 'sum', 'id': 'count'})\n",
    "         .sort_values(['title', 'status']))"
   ]
  },
  {
   "cell_type": "code",
   "execution_count": null,
   "metadata": {},
   "outputs": [],
   "source": [
    "# Группировка\n",
    "df.groupby('company')\n",
    "\n",
    "# Агрегация\n",
    "product_data.groupby('title').agg({'money': 'sum'})"
   ]
  },
  {
   "cell_type": "code",
   "execution_count": null,
   "metadata": {},
   "outputs": [],
   "source": [
    "# Сортировка значений\n",
    "product_data.sort_values('city')\n",
    "\n",
    "# Дополнительные параметры\n",
    "# ascending – принимает логическое значение, которое показывает, сортировать ли колонку по возрастанию.\n",
    "\n",
    "# value_counts\n",
    "df['name'].value_counts()"
   ]
  },
  {
   "cell_type": "code",
   "execution_count": null,
   "metadata": {},
   "outputs": [],
   "source": [
    "# Запросы\n",
    "product_data.query(\"status == 'Завершен'\")\n",
    "\n",
    "# В query также можно передать сразу несколько условий.\n",
    "# Условия, которые должны выполняться одновременно, соединяются с помощью and или &: \n",
    "product_data.query(\"title == 'Курс обучения «Эксперт»' and status == 'Завершен'\")\n",
    "\n",
    "# Когда должно удовлетворяться одно из условий – or или |:\n",
    "product_data.query(\"title == 'Курс обучения «Эксперт»' or status == 'Завершен'\")\n"
   ]
  },
  {
   "cell_type": "code",
   "execution_count": null,
   "metadata": {},
   "outputs": [],
   "source": [
    "# Запись в файл\n",
    "# Датафрэйм можно записать в различный формат. Пожалуй, самый распространённый – csv.\n",
    "# Для записи в этот формат необходимо применить к датафрэйму метод to_csv и передать в него путь, по которому вы хотите создать файл.\n",
    "df.to_csv('my.csv')\n",
    "\n",
    "#Дополнительные параметры\n",
    "#index – записать индекс датафрэйма в csv как первую колонку\n",
    "#sep – используемый при записи разделитель колонок\n",
    "\n",
    "# попробуйте добавить encoding=\"windows-1251\":\n",
    "df.to_csv(\"file_name.csv\", encoding=\"windows-1251\")"
   ]
  },
  {
   "cell_type": "code",
   "execution_count": 1,
   "metadata": {},
   "outputs": [
    {
     "data": {
      "text/plain": [
       "'Крайне_важное_задание'"
      ]
     },
     "execution_count": 1,
     "metadata": {},
     "output_type": "execute_result"
    }
   ],
   "source": [
    "# Использованные в уроке функции\n",
    "# replace – применяется к строкам, принимает две строки: что заменить и на что заменить\n",
    "my_string = 'Крайне важное задание'\n",
    "my_string.replace(' ', '_')\n",
    "# \n"
   ]
  },
  {
   "cell_type": "code",
   "execution_count": 2,
   "metadata": {},
   "outputs": [
    {
     "data": {
      "text/plain": [
       "'Vasya Vasiljev'"
      ]
     },
     "execution_count": 2,
     "metadata": {},
     "output_type": "execute_result"
    }
   ],
   "source": [
    "# strip – применяется к строкам, по умолчанию убирает пробелы слева и справа\n",
    "user_name = '  Vasya Vasiljev    '\n",
    "user_name.strip()\n",
    "# \n"
   ]
  },
  {
   "cell_type": "code",
   "execution_count": 3,
   "metadata": {},
   "outputs": [
    {
     "data": {
      "text/plain": [
       "4.568"
      ]
     },
     "execution_count": 3,
     "metadata": {},
     "output_type": "execute_result"
    }
   ],
   "source": [
    "# round – применяется к дробным числам, округляет их, можно передать дополнительный аргумент,\n",
    "# который означает число знаков после запятой\n",
    "round(4.56783, 3)"
   ]
  },
  {
   "cell_type": "code",
   "execution_count": null,
   "metadata": {},
   "outputs": [],
   "source": [
    "# Задавание функций\n",
    "def function(parameter):\n",
    "   what to do\n",
    "# def – ключевое слово, даёт питону понять, что дальше будет задана функция\n",
    "# function – название, которое мы выбрали\n",
    "# parameter – инпут функции, т.е. какие данные ей нужны для работы. Параметров может быть 0 (без инпута) или больше. Это может быть почти что угодно:\n",
    "# путь к файлу\n",
    "# название папки\n",
    "# число строк, с которыми нужно работать\n",
    "# путь к отчёту, который будет создан\n",
    "# what to do – тело функции, функционал, который будет работать\n",
    "# \n"
   ]
  },
  {
   "cell_type": "code",
   "execution_count": null,
   "metadata": {},
   "outputs": [],
   "source": []
  },
  {
   "cell_type": "code",
   "execution_count": null,
   "metadata": {},
   "outputs": [],
   "source": []
  },
  {
   "cell_type": "code",
   "execution_count": 15,
   "metadata": {},
   "outputs": [
    {
     "data": {
      "text/plain": [
       "datetime.datetime(2021, 10, 19, 22, 28, 58, 420963)"
      ]
     },
     "execution_count": 15,
     "metadata": {},
     "output_type": "execute_result"
    }
   ],
   "source": [
    "# Время\n",
    "# Для работы с датой и временем можно использовать модуль datetime.\n",
    "# Для получения данных о времени в момент вызова функции используйте функцию today в одноимённом подмодуле:\n",
    "\n",
    "# по соглашению импорт помещается в заголовок файла и отделяется 2 пустыми строками от другого кода\n",
    "import datetime  # by convention imports are placed in the head of file and separated with 2 blank lines from other code\n",
    "\n",
    "date = datetime.datetime.today()\n",
    "date"
   ]
  },
  {
   "cell_type": "code",
   "execution_count": 16,
   "metadata": {},
   "outputs": [
    {
     "data": {
      "text/plain": [
       "'2021-10-19 22:30:11'"
      ]
     },
     "execution_count": 16,
     "metadata": {},
     "output_type": "execute_result"
    }
   ],
   "source": [
    "# Само по себе это даст вам специальный тип даты. Чтобы перевести его в строку сделайте следующее:\n",
    "datetime.datetime.today().strftime('%Y-%m-%d %H:%M:%S')\n",
    "\n",
    "# Метод strftime форматирует дату в соответствии с переданным в него форматом:\n",
    "# % – обозначает, что далее следует часть даты\n",
    "# Y – год четырьмя знаками\n",
    "# m – месяц двумя знаками\n",
    "# d – день\n",
    "# H – час\n",
    "# M – минуты\n",
    "# S – секунды\n"
   ]
  },
  {
   "cell_type": "code",
   "execution_count": 7,
   "metadata": {},
   "outputs": [
    {
     "name": "stdout",
     "output_type": "stream",
     "text": [
      "Full time format of now is 2021-10-19 22:24:33.229107\n"
     ]
    }
   ],
   "source": [
    "# Несколько примеров:\n",
    "\n",
    "from datetime import datetime\n",
    "\n",
    "\n",
    "# current date and time\n",
    "now = datetime.now() \n",
    "print(f'Full time format of now is {now}')\n",
    "# Full time format of now is 2020-06-01 17:54:40.010540"
   ]
  },
  {
   "cell_type": "code",
   "execution_count": 8,
   "metadata": {},
   "outputs": [
    {
     "name": "stdout",
     "output_type": "stream",
     "text": [
      "year: 2021\n"
     ]
    }
   ],
   "source": [
    "# Year\n",
    "year = now.strftime(\"%Y\")\n",
    "print(\"year:\", year)\n",
    "year: 2020"
   ]
  },
  {
   "cell_type": "code",
   "execution_count": 10,
   "metadata": {},
   "outputs": [
    {
     "name": "stdout",
     "output_type": "stream",
     "text": [
      "month: 10\n"
     ]
    }
   ],
   "source": [
    "# Month\n",
    "month = now.strftime(\"%m\")\n",
    "print(\"month:\", month)\n",
    "# month: 06"
   ]
  },
  {
   "cell_type": "code",
   "execution_count": 11,
   "metadata": {},
   "outputs": [
    {
     "name": "stdout",
     "output_type": "stream",
     "text": [
      "day: 19\n"
     ]
    }
   ],
   "source": [
    "# Day\n",
    "day = now.strftime(\"%d\")\n",
    "print(\"day:\", day)\n",
    "# day: 01"
   ]
  },
  {
   "cell_type": "code",
   "execution_count": 12,
   "metadata": {},
   "outputs": [
    {
     "name": "stdout",
     "output_type": "stream",
     "text": [
      "time: 22:24:33\n"
     ]
    }
   ],
   "source": [
    "# Time\n",
    "time = now.strftime(\"%H:%M:%S\")\n",
    "print(\"time:\", time)\n",
    "# time: 17:54:40"
   ]
  },
  {
   "cell_type": "code",
   "execution_count": 13,
   "metadata": {},
   "outputs": [
    {
     "name": "stdout",
     "output_type": "stream",
     "text": [
      "date and time: 10/19/2021, 22:24:33\n"
     ]
    }
   ],
   "source": [
    "# Date and time\n",
    "date_time = now.strftime(\"%m/%d/%Y, %H:%M:%S\")\n",
    "print(\"date and time:\",date_time)\n",
    "# date and time: 06/04/2020, 17:54:40"
   ]
  },
  {
   "cell_type": "code",
   "execution_count": null,
   "metadata": {},
   "outputs": [],
   "source": []
  },
  {
   "cell_type": "code",
   "execution_count": null,
   "metadata": {},
   "outputs": [],
   "source": []
  },
  {
   "cell_type": "code",
   "execution_count": null,
   "metadata": {},
   "outputs": [],
   "source": []
  },
  {
   "cell_type": "code",
   "execution_count": null,
   "metadata": {},
   "outputs": [],
   "source": []
  },
  {
   "cell_type": "code",
   "execution_count": null,
   "metadata": {},
   "outputs": [],
   "source": []
  },
  {
   "cell_type": "code",
   "execution_count": null,
   "metadata": {},
   "outputs": [],
   "source": []
  }
 ],
 "metadata": {
  "kernelspec": {
   "display_name": "Python 3",
   "language": "python",
   "name": "python3"
  },
  "language_info": {
   "codemirror_mode": {
    "name": "ipython",
    "version": 3
   },
   "file_extension": ".py",
   "mimetype": "text/x-python",
   "name": "python",
   "nbconvert_exporter": "python",
   "pygments_lexer": "ipython3",
   "version": "3.8.3"
  }
 },
 "nbformat": 4,
 "nbformat_minor": 4
}
