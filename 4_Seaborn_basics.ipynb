{
 "cells": [
  {
   "cell_type": "code",
   "execution_count": null,
   "metadata": {},
   "outputs": [],
   "source": [
    "# *****************************              SEABORN              *****************************"
   ]
  },
  {
   "cell_type": "code",
   "execution_count": 2,
   "metadata": {},
   "outputs": [],
   "source": [
    "# Pandas\n",
    "import pandas as pd\n",
    "import numpy as np"
   ]
  },
  {
   "cell_type": "code",
   "execution_count": 3,
   "metadata": {},
   "outputs": [],
   "source": [
    "import seaborn as sns\n",
    "import matplotlib.pyplot as plt\n",
    "\n",
    "%matplotlib inline"
   ]
  },
  {
   "cell_type": "code",
   "execution_count": null,
   "metadata": {},
   "outputs": [],
   "source": []
  },
  {
   "cell_type": "code",
   "execution_count": 17,
   "metadata": {},
   "outputs": [],
   "source": [
    "# 4. Основные компоненты matplotlib\n",
    "# MPL очень большая библиотека, но по своей сути она состоит из небольшого количества базовых компонентов:"
   ]
  },
  {
   "cell_type": "code",
   "execution_count": 18,
   "metadata": {},
   "outputs": [],
   "source": [
    "# Figure - это контейнер самого верхнего уровня, та область на которой все нарисовано.\n",
    "# Таких областей может быть несколько, каждая из которых может содержать несколько контейнеров Axes."
   ]
  },
  {
   "cell_type": "code",
   "execution_count": 19,
   "metadata": {},
   "outputs": [],
   "source": [
    "# Axes - это та область на которой чаще всего и отражаются графики (данные в виде графиков),\n",
    "# а так же все вспомогательные атрибуты (линии сетки, метки, указатели и т.д.).\n",
    "# Часто, установка этой области сопровождается с вызовом subplot, который и помещает Axes на регулярную сетку.\n",
    "# Поэтому, так же часто Axes и Subplot можно считать синонимами.\n",
    "# Но с тем что это за сетка и как это размещение работает, давайте разберемся чуть ниже."
   ]
  },
  {
   "cell_type": "code",
   "execution_count": 20,
   "metadata": {},
   "outputs": [],
   "source": [
    "# Каждая область Axes содержит XAxis и YAxis. Они содержат, деления, метки и прочие вспомогательные атрибуты.\n",
    "# В Этом уроке мы будем контролировать тики, метки и пределы данных через другие механизмы,\n",
    "# поэтому подробно рассматривать оси мы не будем."
   ]
  },
  {
   "cell_type": "code",
   "execution_count": null,
   "metadata": {},
   "outputs": [],
   "source": []
  },
  {
   "cell_type": "code",
   "execution_count": 21,
   "metadata": {},
   "outputs": [
    {
     "data": {
      "image/png": "[encoded data removed]",
      "text/plain": [
       "<Figure size 432x288 with 1 Axes>"
      ]
     },
     "metadata": {
      "needs_background": "light"
     },
     "output_type": "display_data"
    }
   ],
   "source": [
    "# 4.1. Начало работы\n",
    "# Давайте попробуем выполним следующий код:\n",
    "\n",
    "# % matplotlib inline\n",
    "# import matplotlib.pyplot as plt\n",
    "\n",
    "fig = plt.figure()\n",
    "ax = fig.add_subplot(111)\n",
    "\n",
    "plt.show()"
   ]
  },
  {
   "cell_type": "code",
   "execution_count": 7,
   "metadata": {},
   "outputs": [],
   "source": [
    "# В строке 'fig = plt.figure()' мы создали область Figure (экземпляр класса figure).\n",
    "# В строке 'ax = fig.add_subplot(111)' мы добавили к Figure область Axes.\n",
    "# Вообще, было бы правильнее использовать 'fig.add_axes', но в данном случае 'fig.add_subplot(111)' намного удобнее,\n",
    "# в конце концов subplot просто размещает Axes на сетке Figure.\n",
    "# Обратите внимание на параметр, который мы передаем 111 - это первая строка, первый столбец и первая (единственная) ячейка\n",
    "# на сетке Figure."
   ]
  },
  {
   "cell_type": "code",
   "execution_count": 23,
   "metadata": {},
   "outputs": [
    {
     "data": {
      "image/png": "[encoded data removed]",
      "text/plain": [
       "<Figure size 432x288 with 1 Axes>"
      ]
     },
     "metadata": {},
     "output_type": "display_data"
    }
   ],
   "source": [
    "# В том что Figure и Axes это разные области можно легко убедиться если изменить их цвет:\n",
    "\n",
    "# import matplotlib.pyplot as plt\n",
    "\n",
    "fig = plt.figure()\n",
    "ax = fig.add_subplot(111)\n",
    "\n",
    "fig.set(facecolor = 'green')\n",
    "ax.set(facecolor = 'red')\n",
    "\n",
    "plt.show()"
   ]
  },
  {
   "cell_type": "code",
   "execution_count": null,
   "metadata": {},
   "outputs": [],
   "source": [
    "# Кстати, Axes должна принадлежать только одной области Figure.\n",
    "# Как правило, всегда сначала создается область Figure, а затем с помощью add_subplot() в Figure размещается\n",
    "# одна или несколько областей Axes."
   ]
  },
  {
   "cell_type": "code",
   "execution_count": 26,
   "metadata": {},
   "outputs": [],
   "source": [
    "# А теперь обратите внимание на то, как с помощью метода set() мы изменили цвет Figure и Axes.\n",
    "# По сути, это самый быстрый способ устанавливать параметры, но он не самый явный.\n",
    "# Давайте установим параметры явно. Сотрите строчку fig.set(facecolor = 'green'),\n",
    "# а затем напечатайте fig.set и нажмите клавишу 'TAB' после чего вы увидите длинный список всех методов Figure,\n",
    "# которые начинаются с set:\n",
    "fig.set\n",
    "# НЕ ТОРОПИТЬСЯ - НАДО НЕМНОГО ПОДОЖДАТЬ!\n",
    "# Затем нажатием клавиши стрелка вниз найдите метод set_facecolor и нажмите Enter:\n",
    "# После этого останется только добавить цвет в виде строки ('green') и все.\n",
    "# fig.set_facecolor('green')"
   ]
  },
  {
   "cell_type": "code",
   "execution_count": 27,
   "metadata": {},
   "outputs": [
    {
     "data": {
      "image/png": "[encoded data removed]",
      "text/plain": [
       "<Figure size 432x288 with 1 Axes>"
      ]
     },
     "metadata": {},
     "output_type": "display_data"
    }
   ],
   "source": [
    "# import matplotlib.pyplot as plt\n",
    "\n",
    "fig = plt.figure()\n",
    "ax = fig.add_subplot(111) # We'll explain the \"111\" later. Basically, 1 row and 1 column.\n",
    "\n",
    "fig.set_facecolor('green')\n",
    "ax.set(facecolor = 'red')\n",
    "\n",
    "plt.show()"
   ]
  },
  {
   "cell_type": "code",
   "execution_count": 28,
   "metadata": {},
   "outputs": [
    {
     "data": {
      "image/png": "[encoded data removed]",
      "text/plain": [
       "<Figure size 432x288 with 1 Axes>"
      ]
     },
     "metadata": {},
     "output_type": "display_data"
    }
   ],
   "source": [
    "# Тоже самое мы можем проделать и с Axes. Кстати, именно Axes вам придется видоизменять чаще всего, поэтому давайте установим побольше параметров для данной области:\n",
    "\n",
    "# import matplotlib.pyplot as plt\n",
    "\n",
    "fig = plt.figure()\n",
    "ax = fig.add_subplot(111) # We'll explain the \"111\" later. Basically, 1 row and 1 column.\n",
    "\n",
    "fig.set_facecolor('green')\n",
    "\n",
    "ax.set_facecolor('red')\n",
    "ax.set_xlim([-10, 10])\n",
    "ax.set_ylim([-2, 2])\n",
    "ax.set_title('Основы анатомии matplotlib')\n",
    "ax.set_xlabel('ось абцис (XAxis)')\n",
    "ax.set_ylabel('ось ординат (YAxis)')\n",
    "\n",
    "plt.show()"
   ]
  },
  {
   "cell_type": "code",
   "execution_count": 29,
   "metadata": {},
   "outputs": [
    {
     "data": {
      "image/png": "[encoded data removed]",
      "text/plain": [
       "<Figure size 432x288 with 1 Axes>"
      ]
     },
     "metadata": {},
     "output_type": "display_data"
    }
   ],
   "source": [
    "# Хотя мы могли бы выполнить это более коротким способом:\n",
    "\n",
    "# import matplotlib.pyplot as plt\n",
    "\n",
    "fig = plt.figure()\n",
    "ax = fig.add_subplot(111)\n",
    "\n",
    "fig.set(facecolor = 'green')\n",
    "ax.set(facecolor = 'red',\n",
    "       xlim = [-10, 10],\n",
    "       ylim = [-2, 2],\n",
    "       title = 'Основы анатомии matplotlib',\n",
    "       xlabel = 'ось абцис (XAxis)',\n",
    "       ylabel = 'ось ординат (YAxis)')\n",
    "\n",
    "plt.show()"
   ]
  },
  {
   "cell_type": "code",
   "execution_count": 30,
   "metadata": {},
   "outputs": [],
   "source": [
    "# Данный способ хорош если вы обладаете некоторым опытом и помните имена всех параметров наизусть.\n",
    "# Новичкам я все-таки рекомендую явный способ установки параметров: так и быстрее (благодаря автодополнению) и очевиднее."
   ]
  },
  {
   "cell_type": "code",
   "execution_count": 14,
   "metadata": {},
   "outputs": [],
   "source": [
    "# Метод set есть практически у всех объектов matplotlib.\n",
    "# Например, нам вдруг захотелось изменить цвет и размер title. Для этого существуют так же два способа:\n",
    "\n",
    "#  Способ №1:\n",
    "ax.set_title('Основы анатомии matplotlib', color = 'white', size = 20)\n",
    "\n",
    "#  Способ №2:\n",
    "ax.set_title('Основы анатомии matplotlib')\n",
    "ax.title.set_color('white')\n",
    "ax.title.set_size(20)"
   ]
  },
  {
   "cell_type": "code",
   "execution_count": 31,
   "metadata": {},
   "outputs": [],
   "source": [
    "# В таких случаях первый способ, снова, кажется более простым. Но все же второй способ позволяет создавать код который легко понять и в котором легко ориентироваться, а это тоже очень дорогого стоит.\n",
    "\n",
    "# И еще, напоследок, график который мы создали - это просто издевательство над восприятием человека.\n",
    "# Такие графики можно делать только для примера!\n",
    "# Создание отличных графиков - это целая наука (или искусство), у которой даже есть название инфографика."
   ]
  },
  {
   "cell_type": "code",
   "execution_count": 16,
   "metadata": {},
   "outputs": [],
   "source": []
  },
  {
   "cell_type": "code",
   "execution_count": 32,
   "metadata": {},
   "outputs": [
    {
     "data": {
      "image/png": "[encoded data removed]",
      "text/plain": [
       "<Figure size 432x288 with 1 Axes>"
      ]
     },
     "metadata": {
      "needs_background": "light"
     },
     "output_type": "display_data"
    }
   ],
   "source": [
    "# 4.2. Отображение данных на графике\n",
    "# Большинство графиков: линий, гистограмм, круговых диаграмм т.е. отображений данных происходит на Axes.\n",
    "# Поэтому, для рисования на Axes необходимо использовать какой-нибудь из его методов.\n",
    "# К слову сказать, этих методов целая куча, но мы сосредоточимся всего на двух: plot и scatter.\n",
    "\n",
    "# plot рисует точки соединенные линиями;\n",
    "# scatter просто рисует точки\n",
    "# Давайте построим простой график на котором будет присутствовать отображение одних данных точками, а других линиями:\n",
    "\n",
    "# import matplotlib.pyplot as plt\n",
    "\n",
    "fig = plt.figure()\n",
    "ax = fig.add_subplot(111)\n",
    "ax.plot([0, 1, 2, 3, 4], [0, 6, 7, 15, 19])\n",
    "ax.scatter([0, 1, 2, 3, 4], [1, 3, 8, 12, 27])\n",
    "\n",
    "plt.show()"
   ]
  },
  {
   "cell_type": "code",
   "execution_count": 33,
   "metadata": {},
   "outputs": [
    {
     "data": {
      "image/png": "[encoded data removed]",
      "text/plain": [
       "<Figure size 432x288 with 1 Axes>"
      ]
     },
     "metadata": {
      "needs_background": "light"
     },
     "output_type": "display_data"
    }
   ],
   "source": [
    "# Нарисованные данные так же поддерживают самые разные параметры внешнего вида:\n",
    "\n",
    "# import matplotlib.pyplot as plt\n",
    "\n",
    "fig = plt.figure()\n",
    "ax = fig.add_subplot(111)\n",
    "ax.plot([0, 1, 2, 3, 4], [0, 6, 7, 15, 19], color = 'black', linewidth = 5)\n",
    "ax.scatter([0, 1, 2, 3, 4], [1, 3, 8, 12, 27], color = 'blue', marker = '*')\n",
    "\n",
    "plt.show()"
   ]
  },
  {
   "cell_type": "code",
   "execution_count": 34,
   "metadata": {},
   "outputs": [
    {
     "data": {
      "image/png": "[encoded data removed]",
      "text/plain": [
       "<Figure size 432x288 with 1 Axes>"
      ]
     },
     "metadata": {
      "needs_background": "light"
     },
     "output_type": "display_data"
    }
   ],
   "source": [
    "# Параметры внешнего вида придется указывать (если надо) вместе с данными внутри ax.plot() и ax.scatter().\n",
    "# Это противоречит моим рекомендациям, но и в этом случае можно оформить код в более читаемый вид:\n",
    "\n",
    "# import matplotlib.pyplot as plt\n",
    "\n",
    "x = [0, 1, 2, 3, 4]\n",
    "y_1 = [0, 6, 7, 15, 19]\n",
    "y_2 = [1, 3, 8, 12, 27]\n",
    "\n",
    "fig = plt.figure()\n",
    "ax = fig.add_subplot(111)\n",
    "\n",
    "ax.plot(x, y_1,\n",
    "        color = 'black',\n",
    "        linewidth = 5)\n",
    "\n",
    "ax.scatter(x, y_2,\n",
    "           color = 'blue',\n",
    "           marker = '*')\n",
    "\n",
    "plt.show()"
   ]
  },
  {
   "cell_type": "code",
   "execution_count": null,
   "metadata": {},
   "outputs": [],
   "source": []
  },
  {
   "cell_type": "code",
   "execution_count": 35,
   "metadata": {},
   "outputs": [
    {
     "data": {
      "image/png": "[encoded data removed]",
      "text/plain": [
       "<Figure size 432x288 with 1 Axes>"
      ]
     },
     "metadata": {
      "needs_background": "light"
     },
     "output_type": "display_data"
    }
   ],
   "source": [
    "# 4.3. Методы Axes и pyplot\n",
    "# Сейчас вы поймете как мы раньше создавали графики без всяких Figure и Axes.\n",
    "# Дело в том что почти все методы axes присутствуют в модуле pyplot.\n",
    "# Например, при вызове plt.title('spam') модуль pyplot вызывает ax.set_title('spam').\n",
    "# Можно сказать, что модуль pyplot создает Figure и Axes автоматически (хотя это не совсем так).\n",
    "# Фактически мы можем переписать весь наш пример следующим образом:\n",
    "\n",
    "# import matplotlib.pyplot as plt\n",
    "\n",
    "\n",
    "plt.plot([0, 1, 2, 3, 4], [0, 6, 7, 15, 19], linewidth = 3)\n",
    "plt.scatter([0, 1, 2, 3, 4], [1, 3, 8, 12, 27], color = 'orange')\n",
    "\n",
    "plt.show()"
   ]
  },
  {
   "cell_type": "code",
   "execution_count": null,
   "metadata": {},
   "outputs": [],
   "source": [
    "# Но мы больше не будем так делать, потому что \"Явное лучше чем неявное\".\n",
    "# Нет, если мы строим так сказать \"одноразовые графики\" с небольшими скриптами,\n",
    "# только ради того что бы что-то быстро визуализировать, то от краткости скриптов мы только выигрываем.\n",
    "# Однако, если нам придется работать с несколькими областями Axes или придется создавать большие скрипты для построения\n",
    "# сложной графики, то использование явных определений Figure и Axes сделает код более очевидным и понятным,\n",
    "# пускай даже за счет увеличения его объема."
   ]
  },
  {
   "cell_type": "code",
   "execution_count": null,
   "metadata": {},
   "outputs": [],
   "source": []
  },
  {
   "cell_type": "code",
   "execution_count": 36,
   "metadata": {},
   "outputs": [
    {
     "data": {
      "image/png": "[encoded data removed]",
      "text/plain": [
       "<Figure size 432x288 with 4 Axes>"
      ]
     },
     "metadata": {},
     "output_type": "display_data"
    }
   ],
   "source": [
    "# 4.4. Несколько Axes на одной Figure\n",
    "# Очень часто, нам необходимо размещать несколько графиков рядом друг с другом.\n",
    "# Это проще всего сделать используя plt.subplots(). Но давайте для начала разберем следующий пример:\n",
    "\n",
    "# import matplotlib.pyplot as plt\n",
    "\n",
    "fig = plt.figure()\n",
    "\n",
    "ax_1 = fig.add_subplot(2, 2, 1)\n",
    "ax_2 = fig.add_subplot(2, 2, 2)\n",
    "ax_3 = fig.add_subplot(2, 2, 3)\n",
    "ax_4 = fig.add_subplot(2, 2, 4)\n",
    "\n",
    "ax_1.set(title = 'ax_1', xticks=[], yticks=[])\n",
    "ax_2.set(title = 'ax_2', xticks=[], yticks=[])\n",
    "ax_3.set(title = 'ax_3', xticks=[], yticks=[])\n",
    "ax_4.set(title = 'ax_4', xticks=[], yticks=[])\n",
    "\n",
    "plt.show()"
   ]
  },
  {
   "cell_type": "code",
   "execution_count": null,
   "metadata": {},
   "outputs": [],
   "source": [
    "# В этом примере, так же как и раньше, мы сначала создали область Figure,\n",
    "# а затем с помощью команды fig.add_subplot() начали добавлять, одну за другой область Axes (ax_1, ax_2, ax_3, ax_4).\n",
    "# Причем заметьте, каждая область Axes является независимой от других,\n",
    "# то есть на на них могут быть нарисованы самые разные графики и установлены самые разные параметры внешнего вида.\n",
    "\n",
    "# Теперь давайте немного разберемся с тем что делает метод add_subplot().\n",
    "# А делает он следующее, разбивает Figure на указанное количество строк и столбцов.\n",
    "# После такого разбиения Figure можно представить как таблицу (или координатную сетку).\n",
    "# Затем область Axes помещается в указанную ячейку.\n",
    "# Для всего этого add_subplot() необходимо всего три числа, которые мы и передаем ему в качестве параметров:\n",
    "\n",
    "# первое - количество строк;\n",
    "# второе - количество столбцов\n",
    "# третье - индекс ячейки."
   ]
  },
  {
   "cell_type": "code",
   "execution_count": 37,
   "metadata": {},
   "outputs": [
    {
     "data": {
      "image/png": "[encoded data removed]",
      "text/plain": [
       "<Figure size 432x288 with 6 Axes>"
      ]
     },
     "metadata": {},
     "output_type": "display_data"
    }
   ],
   "source": [
    "# Индексирование полученных ячеек начинается с левого верхнего угла,\n",
    "# выполняется построчно слева-направо и заканчивается в правом нижнем углу:\n",
    "\n",
    "# import matplotlib.pyplot as plt\n",
    "\n",
    "fig = plt.figure()\n",
    "\n",
    "ax_1 = fig.add_subplot(3, 2, 1)\n",
    "ax_2 = fig.add_subplot(3, 2, 2)\n",
    "ax_3 = fig.add_subplot(3, 2, 3)\n",
    "ax_4 = fig.add_subplot(3, 2, 4)\n",
    "ax_5 = fig.add_subplot(3, 2, 5)\n",
    "ax_6 = fig.add_subplot(3, 2, 6)\n",
    "\n",
    "ax_1.set(title = 'ax_1', xticks=[], yticks=[])\n",
    "ax_2.set(title = 'ax_2', xticks=[], yticks=[])\n",
    "ax_3.set(title = 'ax_3', xticks=[], yticks=[])\n",
    "ax_4.set(title = 'ax_4', xticks=[], yticks=[])\n",
    "ax_5.set(title = 'ax_5', xticks=[], yticks=[])\n",
    "ax_6.set(title = 'ax_6', xticks=[], yticks=[])\n",
    "\n",
    "plt.show()"
   ]
  },
  {
   "cell_type": "code",
   "execution_count": 38,
   "metadata": {},
   "outputs": [
    {
     "data": {
      "image/png": "[encoded data removed]",
      "text/plain": [
       "<Figure size 432x288 with 3 Axes>"
      ]
     },
     "metadata": {},
     "output_type": "display_data"
    }
   ],
   "source": [
    "# Заполнять областями Axes всю область Figure не обязательно:\n",
    "\n",
    "# import matplotlib.pyplot as plt\n",
    "\n",
    "fig = plt.figure()\n",
    "\n",
    "ax_1 = fig.add_subplot(3, 2, 1)\n",
    "ax_2 = fig.add_subplot(3, 2, 4)\n",
    "ax_3 = fig.add_subplot(3, 2, 5)\n",
    "\n",
    "ax_1.set(title = 'ax_1', xticks=[], yticks=[])\n",
    "ax_2.set(title = 'ax_2', xticks=[], yticks=[])\n",
    "ax_3.set(title = 'ax_3', xticks=[], yticks=[])\n",
    "\n",
    "plt.show()"
   ]
  },
  {
   "cell_type": "code",
   "execution_count": 39,
   "metadata": {},
   "outputs": [
    {
     "data": {
      "image/png": "[encoded data removed]",
      "text/plain": [
       "<Figure size 432x288 with 3 Axes>"
      ]
     },
     "metadata": {},
     "output_type": "display_data"
    }
   ],
   "source": [
    "# Каждый отдельный вызов add_subplot() выполняет разбивку Figure, так как как указано в его параметрах\n",
    "# и не зависит от предыдущих разбиений:\n",
    "\n",
    "# import matplotlib.pyplot as plt\n",
    "\n",
    "fig = plt.figure()\n",
    "\n",
    "ax_1 = fig.add_subplot(3, 1, 1)\n",
    "ax_2 = fig.add_subplot(3, 2, 4)\n",
    "ax_3 = fig.add_subplot(3, 3, 9)\n",
    "\n",
    "ax_1.set(title = 'ax_1', xticks=[], yticks=[])\n",
    "ax_2.set(title = 'ax_2', xticks=[], yticks=[])\n",
    "ax_3.set(title = 'ax_3', xticks=[], yticks=[])\n",
    "\n",
    "plt.show()"
   ]
  },
  {
   "cell_type": "code",
   "execution_count": 40,
   "metadata": {},
   "outputs": [
    {
     "data": {
      "image/png": "[encoded data removed]",
      "text/plain": [
       "<Figure size 432x288 with 6 Axes>"
      ]
     },
     "metadata": {},
     "output_type": "display_data"
    }
   ],
   "source": [
    "# Такое поведение метода add_subplot() позволяет располагать графики как вам необходимо.\n",
    "# Области Axes могут перекрывать друг-друга, быть разного размера или разделенными некоторым пространством,\n",
    "# впрочем, как и размещаться в произвольных местах:\n",
    "\n",
    "# import matplotlib.pyplot as plt\n",
    "\n",
    "fig = plt.figure()\n",
    "\n",
    "ax_1 = fig.add_subplot(3, 1, 1)\n",
    "ax_2 = fig.add_subplot(6, 3, 3)\n",
    "ax_3 = fig.add_subplot(3, 3, 4)\n",
    "ax_4 = fig.add_subplot(3, 3, 6)\n",
    "ax_5 = fig.add_subplot(3, 4, 10)\n",
    "ax_6 = fig.add_subplot(5, 5, 25)\n",
    "\n",
    "ax_1.set(title = 'ax_1', xticks=[], yticks=[])\n",
    "ax_2.set(title = 'ax_2', xticks=[], yticks=[])\n",
    "ax_3.set(title = 'ax_3', xticks=[], yticks=[])\n",
    "ax_4.set(title = 'ax_4', xticks=[], yticks=[])\n",
    "ax_5.set(title = 'ax_5', xticks=[], yticks=[])\n",
    "ax_6.set(title = 'ax_6', xticks=[], yticks=[])\n",
    "\n",
    "plt.show()"
   ]
  },
  {
   "cell_type": "code",
   "execution_count": null,
   "metadata": {},
   "outputs": [],
   "source": []
  },
  {
   "cell_type": "code",
   "execution_count": 41,
   "metadata": {},
   "outputs": [
    {
     "data": {
      "image/png": "[encoded data removed]",
      "text/plain": [
       "<Figure size 432x288 with 4 Axes>"
      ]
     },
     "metadata": {},
     "output_type": "display_data"
    }
   ],
   "source": [
    "# 4.5. subplots()\n",
    "# Конечно, такой способ размещения некоторого количества областей Axes на Figure довольно гибок,\n",
    "# но на практике функция plt.subplots(nrows, ncols) оказывается гораздо удобнее:\n",
    "\n",
    "# import matplotlib.pyplot as plt\n",
    "\n",
    "fig, axes = plt.subplots(nrows = 2, ncols =2 )\n",
    "\n",
    "axes[0,0].set(title='axes[0,0]')\n",
    "axes[0,1].set(title='axes[0,1]')\n",
    "axes[1,0].set(title='axes[1,0]')\n",
    "axes[1,1].set(title='axes[1,1]')\n",
    "\n",
    "for ax in axes.flat:\n",
    "    ax.set(xticks=[], yticks=[])\n",
    "    \n",
    "plt.show()"
   ]
  },
  {
   "cell_type": "code",
   "execution_count": 5,
   "metadata": {},
   "outputs": [
    {
     "data": {
      "image/png": "[encoded data removed]",
      "text/plain": [
       "<Figure size 432x288 with 3 Axes>"
      ]
     },
     "metadata": {},
     "output_type": "display_data"
    }
   ],
   "source": [
    "fig, axes = plt.subplots(nrows = 3, ncols =1 )\n",
    "\n",
    "axes[0].set(title='axes[0]')\n",
    "axes[1].set(title='axes[1]')\n",
    "axes[2].set(title='axes[2]')\n",
    "\n",
    "for ax in axes.flat:\n",
    "    ax.set(xticks=[], yticks=[])\n",
    "    \n",
    "plt.show()"
   ]
  },
  {
   "cell_type": "code",
   "execution_count": 42,
   "metadata": {},
   "outputs": [
    {
     "name": "stdout",
     "output_type": "stream",
     "text": [
      "(<Figure size 432x288 with 4 Axes>, array([[<matplotlib.axes._subplots.AxesSubplot object at 0x000000A32C2E19A0>,\n",
      "        <matplotlib.axes._subplots.AxesSubplot object at 0x000000A32BF4C850>],\n",
      "       [<matplotlib.axes._subplots.AxesSubplot object at 0x000000A32BF6ACA0>,\n",
      "        <matplotlib.axes._subplots.AxesSubplot object at 0x000000A32BF8F100>]],\n",
      "      dtype=object))\n"
     ]
    },
    {
     "data": {
      "image/png": "[encoded data removed]",
      "text/plain": [
       "<Figure size 432x288 with 4 Axes>"
      ]
     },
     "metadata": {
      "needs_background": "light"
     },
     "output_type": "display_data"
    }
   ],
   "source": [
    "# Очень часто нам нужно что бы наши области Axes были расположены на самой обычной сетке. Что в общем то и делает plt.subplots(nrows, ncols). Однако не следует забывать, что как правило, все чуточку сложнее. Давайте выполним следующий код:\n",
    "\n",
    "print(plt.subplots(nrows = 2, ncols = 2))\n",
    "# (<matplotlib.figure.Figure object at 0xaaca234c>, array([[<matplotlib.axes._subplots.AxesSubplot object at 0xaad7946c>,\n",
    "#         <matplotlib.axes._subplots.AxesSubplot object at 0xab04a6ac>],\n",
    "#        [<matplotlib.axes._subplots.AxesSubplot object at 0xaac8956c>,\n",
    "#         <matplotlib.axes._subplots.AxesSubplot object at 0xaaef0dac>]],\n",
    "#       dtype=object))"
   ]
  },
  {
   "cell_type": "code",
   "execution_count": null,
   "metadata": {},
   "outputs": [],
   "source": [
    "# Если вглядеться в вывод, то становится видно, что plt.subplots(nrows, ncols) создает кортеж из двух элементов:\n",
    "\n",
    "# Область Figure;\n",
    "# Массив объектов NumPy, состоящий из двух строк и двух столбцов.\n",
    "# Каждый элемент этого массива представляет собой отдельную область Axes, к которой можно обратиться по ее индексу\n",
    "# в данном массиве.\n",
    "# Для дальнейшей работы с данными областями нам необходимо распаковать данный кортеж, что мы и делаем в строке:\n",
    "\n",
    "fig, axes = plt.subplots(nrows = 2, ncols = 2)"
   ]
  },
  {
   "cell_type": "code",
   "execution_count": null,
   "metadata": {},
   "outputs": [],
   "source": [
    "# Теперь fig - это Figure, а axes - это массив NumPy, элементами которого являются объекты Axes.\n",
    "# Далее, мы решили установить каждой области Axes свой заголовок:\n",
    "\n",
    "axes[0, 0].set(title='axes[0, 0]')\n",
    "axes[0, 1].set(title='axes[0, 1]')\n",
    "axes[1, 0].set(title='axes[1, 0]')\n",
    "axes[1, 1].set(title='axes[1, 1]')\n",
    "\n",
    "# Поскольку каждый заголовок (как-бы) уникальный, нам пришлось вручную вызвать каждую область Axes\n",
    "# и устанавливать для нее параметр title."
   ]
  },
  {
   "cell_type": "code",
   "execution_count": 1,
   "metadata": {},
   "outputs": [
    {
     "ename": "NameError",
     "evalue": "name 'axes' is not defined",
     "output_type": "error",
     "traceback": [
      "\u001b[1;31m---------------------------------------------------------------------------\u001b[0m",
      "\u001b[1;31mNameError\u001b[0m                                 Traceback (most recent call last)",
      "\u001b[1;32m<ipython-input-1-054954904cf7>\u001b[0m in \u001b[0;36m<module>\u001b[1;34m\u001b[0m\n\u001b[0;32m      1\u001b[0m \u001b[1;31m# Но если для каждой области нам необходимо установить одинаковые параметры, то это можно сделать в цикле:\u001b[0m\u001b[1;33m\u001b[0m\u001b[1;33m\u001b[0m\u001b[1;33m\u001b[0m\u001b[0m\n\u001b[0;32m      2\u001b[0m \u001b[1;33m\u001b[0m\u001b[0m\n\u001b[1;32m----> 3\u001b[1;33m \u001b[1;32mfor\u001b[0m \u001b[0max\u001b[0m \u001b[1;32min\u001b[0m \u001b[0maxes\u001b[0m\u001b[1;33m.\u001b[0m\u001b[0mflat\u001b[0m\u001b[1;33m:\u001b[0m\u001b[1;33m\u001b[0m\u001b[1;33m\u001b[0m\u001b[0m\n\u001b[0m\u001b[0;32m      4\u001b[0m     \u001b[0max\u001b[0m\u001b[1;33m.\u001b[0m\u001b[0mset\u001b[0m\u001b[1;33m(\u001b[0m\u001b[0mxticks\u001b[0m\u001b[1;33m=\u001b[0m\u001b[1;33m[\u001b[0m\u001b[1;33m]\u001b[0m\u001b[1;33m,\u001b[0m \u001b[0myticks\u001b[0m\u001b[1;33m=\u001b[0m\u001b[1;33m[\u001b[0m\u001b[1;33m]\u001b[0m\u001b[1;33m)\u001b[0m\u001b[1;33m\u001b[0m\u001b[1;33m\u001b[0m\u001b[0m\n",
      "\u001b[1;31mNameError\u001b[0m: name 'axes' is not defined"
     ]
    }
   ],
   "source": [
    "# Но если для каждой области нам необходимо установить одинаковые параметры, то это можно сделать в цикле:\n",
    "\n",
    "for ax in axes.flat:\n",
    "    ax.set(xticks=[], yticks=[])"
   ]
  },
  {
   "cell_type": "code",
   "execution_count": 43,
   "metadata": {},
   "outputs": [
    {
     "data": {
      "image/png": "[encoded data removed]",
      "text/plain": [
       "<Figure size 432x288 with 9 Axes>"
      ]
     },
     "metadata": {},
     "output_type": "display_data"
    }
   ],
   "source": [
    "# Хотя, зачастую, даже заголовки можно установить в том же самом цикле:\n",
    "\n",
    "# import numpy as np\n",
    "# import matplotlib.pyplot as plt\n",
    "\n",
    "fig, axes = plt.subplots(nrows=3, ncols=3)\n",
    "\n",
    "n = 1\n",
    "\n",
    "for ax in axes.flat:\n",
    "    ax.set(title='axes_' + str(n), xticks=[], yticks=[])\n",
    "    n += 1\n",
    "plt.show()"
   ]
  },
  {
   "cell_type": "code",
   "execution_count": 44,
   "metadata": {},
   "outputs": [
    {
     "data": {
      "image/png": "[encoded data removed]",
      "text/plain": [
       "<Figure size 432x288 with 1 Axes>"
      ]
     },
     "metadata": {
      "needs_background": "light"
     },
     "output_type": "display_data"
    }
   ],
   "source": [
    "# По умолчанию количество строк и столбцов в методе subplots равно 1,\n",
    "# что удобно для быстрого создания Figure с одной областью Axes:\n",
    "\n",
    "# import matplotlib.pyplot as plt\n",
    "\n",
    "fig, ax = plt.subplots()       #  одна строка вместо двух:\n",
    "                               #  fig = plt.figure()\n",
    "                               #  ax = fig.add_subplot(111)\n",
    "ax.set(title='Axes')\n",
    "    \n",
    "plt.show()"
   ]
  },
  {
   "cell_type": "code",
   "execution_count": null,
   "metadata": {},
   "outputs": [],
   "source": [
    "Далее, в таких простых случаях, мы будем очень часто пользоваться именно этой строкой 'fig, ax = plt.subplots()' -\n",
    "это сокращает код, но не преуменьшает его ясности (мы по прежнему создаем Figure и помещаем на нее Axes)."
   ]
  },
  {
   "cell_type": "code",
   "execution_count": null,
   "metadata": {},
   "outputs": [],
   "source": []
  }
 ],
 "metadata": {
  "kernelspec": {
   "display_name": "Python 3",
   "language": "python",
   "name": "python3"
  },
  "language_info": {
   "codemirror_mode": {
    "name": "ipython",
    "version": 3
   },
   "file_extension": ".py",
   "mimetype": "text/x-python",
   "name": "python",
   "nbconvert_exporter": "python",
   "pygments_lexer": "ipython3",
   "version": "3.8.3"
  }
 },
 "nbformat": 4,
 "nbformat_minor": 4
}
